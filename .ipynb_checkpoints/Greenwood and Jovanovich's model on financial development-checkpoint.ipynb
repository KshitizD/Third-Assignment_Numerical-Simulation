{
 "cells": [
  {
   "cell_type": "markdown",
   "metadata": {},
   "source": []
  },
  {
   "cell_type": "code",
   "execution_count": 13,
   "metadata": {
    "collapsed": false
   },
   "outputs": [
    {
     "name": "stderr",
     "output_type": "stream",
     "text": [
      "C:\\Anaconda2\\lib\\site-packages\\ipykernel\\__main__.py:159: DeprecationWarning:\n",
      "\n",
      "using a non-integer number instead of an integer will result in an error in the future\n",
      "\n"
     ]
    }
   ],
   "source": [
    "#%load_ext autoreload # This line is needed to read the newest changes fromt the parameters.py module\n",
    "import numpy as np\n",
    "import parameters as param\n",
    "\n",
    "#%autoreload # This line is needed to read the newest changes fromt the parameters.py module\n",
    "\n",
    "# Definition of the constants\n",
    "SAFE_PROJECT = param.SAFE_R # return on safe project 1%\n",
    "T = param.T # number of periods\n",
    "IS_MEAN = param.IS_MEAN # Idiosyncratic_shock parameters\n",
    "IS_STDE = param.IS_STDE # Std. deviation\n",
    "JOINCOST = param.COST_INT # Cost of joining the financial intermediary\n",
    "WE_MEAN = param.WE_MEAN # Mean of the wealth distribution\n",
    "WE_STDE = param.WE_STDE # Std. deviation\n",
    "aggr_shocks = np.random.normal(param.AG_MEAN,param.AG_STDE,size=T).tolist() # This list holds the time path of the\n",
    "                                                                            # aggregate productivity .\n",
    "# Value functions:\n",
    "#wealth_axis = genfromtxt('wealth_grid.csv',delimiter=',') # The k values of the mapping\n",
    "#v_value_f = genfromtxt('v_value_func.csv',delimiter=',') # The mapped V(k) value function\n",
    "#v_policy_f = genfromtxt('v_policy_func.csv',delimiter=',') # The V* greedy policy function\n",
    "#w_value_f = genfromtxt('w_value_func.csv',delimiter=',') # The mapped W(k) value function\n",
    "#w_policy_f = genfromtxt('w_policy_func.csv',delimiter=',') # The W* greedy policy function    \n",
    "    \n",
    "class Agent: \n",
    "    \"\"\"\n",
    "        Class for an agent in the economy.\n",
    "    \"\"\"\n",
    "    def __init__(self,iD):\n",
    "        \"\"\"\n",
    "            - randomly drawn initial wealth\n",
    "            - randomly drawn initial idiosyncractic shock\n",
    "            - setting time preference\n",
    "        \"\"\"\n",
    "        self.ID = iD\n",
    "        self.wealth_path = [0 for i in range(T)]\n",
    "        self.wealth_path[0] = np.random.normal(WE_MEAN,WE_STDE)\n",
    "        self.saving_path = [0 for i in range(T)]\n",
    "        self.idios_shocks = np.random.normal(IS_MEAN,IS_STDE,size=T).tolist()\n",
    "        self.pref = param.BETA\n",
    "        self.member = False\n",
    "        self.member_n = -1\n",
    "        self.join_costs = [0 for i in range(T)]\n",
    "    \n",
    "    def w(self,k):\n",
    "        \"\"\"\n",
    "            Value function outside the intermediary.\n",
    "        \"\"\"\n",
    "        return k\n",
    "    \n",
    "    def v(self,k):\n",
    "        \"\"\"\n",
    "            Value function inside the intermediary.\n",
    "        \"\"\"\n",
    "        return k\n",
    "    def v_sigma(self,k):\n",
    "        \"\"\"\n",
    "            Mapping function for v(k). It determines the optimal amount\n",
    "            of saving for a given amount of endowment (wealth). This function\n",
    "            is the v*-greedy policy function.\n",
    "        \"\"\"\n",
    "        return param.BETA*k\n",
    "    def w_sigma(self,k):\n",
    "        \"\"\"\n",
    "            Mapping function for w(k). It determines the optimal amount\n",
    "            of saving for a given amount of endowment (wealth). This function\n",
    "            is the w*-greedy policy function.\n",
    "        \"\"\"\n",
    "        return param.BETA*k\n",
    "    def join_(self,k):\n",
    "        response = False\n",
    "        \"\"\"\n",
    "        if self.w(k)<self.v(k-JOINCOST):\n",
    "            response = True\n",
    "        \"\"\"\n",
    "        if k > 2.1:\n",
    "            response = True\n",
    "        return response\n",
    "\n",
    "class MemberIntermediary():\n",
    "    \"\"\"\n",
    "        This object is used to represent members of the financial intermediary.\n",
    "        \n",
    "        - It stores the current idiosyncratic productivity shock and\n",
    "        saving decision at a given period t. .sample idicates wether\n",
    "        the member is selected into the sample in the period.\n",
    "        \n",
    "        - .r_project stores the return on the individuals idiosyncratic\n",
    "        project if the average amount of capital (saving) of\n",
    "        the fin. interm. is invested int he project.\n",
    "        \n",
    "        - .r_saving stores the return provided by the fin. interm.\n",
    "        on the saving deposited by the member individual.\n",
    "    \"\"\"\n",
    "    def __init__(self,agent,time):\n",
    "        self.ID = agent.ID\n",
    "        self.idi_shock = agent.idios_shocks[time-1]\n",
    "        self.saving = agent.saving_path[time-1]\n",
    "        self.sample = 0\n",
    "        self.r_project = 0\n",
    "        self.r_saving = 0\n",
    "        \n",
    "class Intermediary:\n",
    "    \"\"\"\n",
    "        Class for the financial intermediary.\n",
    "    \"\"\"\n",
    "    def __init__(self):\n",
    "        \"\"\"\n",
    "            - list for member agents\n",
    "            - definin cost of joining the inst.\n",
    "            - setting sampling parameter (% of the indiv.\n",
    "              projects selected into the sample)\n",
    "            - est_ret = the estimated return based on the\n",
    "              sample\n",
    "        \"\"\"\n",
    "        self.agents = []\n",
    "        # sampling parameter - this % of the individual\n",
    "        self.sampling_param = param.SAMPLING\n",
    "        self.number_of_members = [0 for i in range(T)]\n",
    "        self.estimates_path = [0 for i in range(T)]\n",
    "        self.avg_ret_path = [0 for i in range(T)]\n",
    "        self.investment_ret = [0 for i in range(T)]\n",
    "        self.tot_cap_path = [0 for i in range(T)]\n",
    "        self.tot_ret_path = [0 for i in range(T)]\n",
    "        # self.est_ret = 1\n",
    "        \n",
    "    def add_member(self, the_Agent,time):\n",
    "        entry = MemberIntermediary(the_Agent,time)\n",
    "        self.agents.append(entry)\n",
    "        return len(self.agents)-1 # Gives back the position of the agent in the member\n",
    "                                  # list.\n",
    "    def depSaving(self, mem_n, saving_val):\n",
    "        \"\"\"\n",
    "            This function indicates that an agent deposit a certain\n",
    "            sum. mem_n is the index of the agent within the institution\n",
    "            and saving_val is the deposited sum.\n",
    "        \"\"\"\n",
    "        self.agents[mem_n].saving = saving_val\n",
    "          \n",
    "    def sampling(self,all_Agents,time):\n",
    "        \"\"\"\n",
    "            This function does the sampling of the individual projects\n",
    "            and return the estimate on the aggregate shock, the average\n",
    "            capital per member in the intermediary, the total return\n",
    "            on the sample investment, and the numble of the individual\n",
    "            projects in the sample.\n",
    "        \"\"\"\n",
    "        n_members = len(self.agents)\n",
    "        ag_shock = aggr_shocks[time-1]\n",
    "        # estimated aggregate shock\n",
    "        estimate = 0\n",
    "        # average capital\n",
    "        avg_capital = sum([agent.saving/n_members for agent in self.agents])\n",
    "        totR_sampl = 0    # total return on sampling\n",
    "        # depending on the number of the members in the fin. int.\n",
    "        # there are 3 scenarios (0, 1, >1)\n",
    "        if (len(self.agents)>1):\n",
    "            estimate = ag_shock\n",
    "            sample = np.random.choice(self.agents,np.ceil(len(self.agents)*\n",
    "                                 self.sampling_param),replace=False)\n",
    "            for agent in sample:\n",
    "                id_intermediary = all_Agents[agent.ID].member_n\n",
    "                self.agents[id_intermediary].sample = 1\n",
    "                self.agents[id_intermediary].r_project = (ag_shock + \\\n",
    "                    self.agents[id_intermediary].idi_shock) * avg_capital\n",
    "                totR_sampl = totR_sampl + self.agents[id_intermediary].r_project\n",
    "                estimate = estimate + self.agents[id_intermediary].idi_shock / \\\n",
    "                            len(sample)\n",
    "        elif (len(self.agents==1)):\n",
    "            estimate = Agents[self.agents[0]].idios_shocks\n",
    "        else:\n",
    "            estimate = 0\n",
    "        # the function gives back:\n",
    "        #    - estiamted aggragate shock\n",
    "        #    - average saving/capital per member in the intermediary\n",
    "        #    - total return on the sample investment\n",
    "        return estimate, avg_capital, totR_sampl, len(sample)\n",
    "            \n",
    "    def invest(self, all_agents, time):\n",
    "        \"\"\"\n",
    "            The intermediary's decision on which options to invest to.\n",
    "            (sampling is done here)\n",
    "        \"\"\"\n",
    "        ag_shock = aggr_shocks[time-1]\n",
    "        self.tot_cap_path[time-1] = sum([member.saving for member in self.agents])\n",
    "        est_agg_return, avg_cap, totR_sampl, n_sampl = self.sampling(all_agents, time)\n",
    "        self.estimates_path[time-1] = est_agg_return\n",
    "        total_return = totR_sampl    # the total return on the whole portfolio\n",
    "        if est_agg_return > SAFE_PROJECT:\n",
    "            # investing in the individual risky projects\n",
    "            self.investment_ret[time-1] = est_agg_return\n",
    "            for agent in self.agents:\n",
    "                if (agent.sample == 0):\n",
    "                    agent.r_project = avg_cap*(ag_shock+agent.idi_shock)\n",
    "                    total_return = total_return + agent.r_project\n",
    "        else:\n",
    "            # investing in the safe projects\n",
    "            self.investment_ret[time-1] = SAFE_PROJECT\n",
    "            total_return = total_return + (len(self.agents)-n_sampl)*\\\n",
    "                avg_cap*SAFE_PROJECT\n",
    "        # we have the total return on the whole portfolio: avg_return\n",
    "        \n",
    "        self.tot_ret_path[time-1] = total_return \n",
    "        avg_return = (total_return / len(self.agents)) / (avg_cap)\n",
    "        self.avg_ret_path[time-1] = avg_return\n",
    "        for agent in self.agents:\n",
    "            # now we will have to establish the dividents for each member\n",
    "            agent.r_saving = avg_return * agent.saving\n",
    "            # and pay out the divident\n",
    "            if (param.T != time):\n",
    "                tID = agent.ID\n",
    "                all_agents[tID].wealth_path[time]=agent.r_saving\n",
    "            \n",
    "        \n",
    "    def newTick(self, all_Agents, time):\n",
    "        \"\"\"\n",
    "            New tick - copy new idi_shocks and reset the rest.\n",
    "        \"\"\"\n",
    "        for agent in self.agents:\n",
    "            if (time!=T):\n",
    "                agent.idi_shock = all_Agents[agent.ID].idios_shocks[time]\n",
    "            else:\n",
    "                agent.idi_shock = 0\n",
    "            agent.saving = 0\n",
    "            agent.sample = 0\n",
    "            agent.r_project = 0\n",
    "            agent.r_saving = 0\n",
    "        self.number_of_members[time-1]=len(self.agents)\n",
    "        \n",
    "def gini(list_of_values):\n",
    "    \"\"\"\n",
    "        This function calculates and returns the Gini-coefficient\n",
    "        based on a list of values. The function is not ours, the\n",
    "        source (Retrieved on April 5, 2016):\n",
    "        http://planspace.org/2013/06/21/how-to-calculate-gini-coefficient-from-raw-data-in-python/\n",
    "    \"\"\"\n",
    "    sorted_list = sorted(list_of_values)\n",
    "    height, area = 0, 0\n",
    "    for value in sorted_list:\n",
    "        height += value\n",
    "        area += height - value / 2.\n",
    "    fair_area = height * len(list_of_values) / 2.\n",
    "    return (fair_area - area) / fair_area\n",
    "            \n",
    "# MAIN PROCEDURE   \n",
    "Ec_agents = [Agent(i) for i in range(100)]  # Generating economic agents.\n",
    "Inst = Intermediary() # Generating the financial intermediary\n",
    "\n",
    "# We will follow T periods.\n",
    "for t in range(T):\n",
    "    time = t+1\n",
    "    # Agents first decide whether to join or not if they are still outside\n",
    "    for agent in Ec_agents:\n",
    "        if (agent.member == False):\n",
    "            if (agent.join_(agent.wealth_path[time-1])==True):\n",
    "                agent.member = True\n",
    "                agent.member_n = Inst.add_member(agent,time)\n",
    "                agent.join_costs[time-1]=JOINCOST\n",
    "    # Agents will decide on their saving and consumption.\n",
    "    for agent in Ec_agents:\n",
    "        if (agent.member == True):\n",
    "            agent.saving_path[time-1]=agent.v_sigma(agent.wealth_path[time-1]-\\\n",
    "                                                   agent.join_costs[time-1])\n",
    "            Inst.depSaving(agent.member_n,agent.saving_path[time-1])\n",
    "        else:\n",
    "            agent.saving_path[time-1]=agent.w_sigma(agent.wealth_path[time-1])\n",
    "    # Then the intermediary does the investment and pays the dividents\n",
    "    Inst.invest(Ec_agents,time)\n",
    "    # While those outside the intermediary invest in their own project.\n",
    "    # (in their own project since in expected terms it will produce \n",
    "    #  a higher return)\n",
    "    for agent in Ec_agents:\n",
    "        if (agent.member == False) & (time != T):\n",
    "            agent.wealth_path[time] = agent.saving_path[time-1] * \\\n",
    "                (aggr_shocks[time-1] + agent.idios_shocks[time-1])\n",
    "    Inst.newTick(Ec_agents,time)\n",
    "\n",
    "# Now the simulation has finished.\n",
    "# First we calculate the time path of the Gini-coefficient\n",
    "ginies = [0 for i in range(T)]\n",
    "for time_1 in range(T):\n",
    "    wealth_list = [agent.wealth_path[time_1] for agent in Ec_agents]\n",
    "    ginies[time_1] = gini(wealth_list)\n"
   ]
  },
  {
   "cell_type": "code",
   "execution_count": 16,
   "metadata": {
    "collapsed": false
   },
   "outputs": [
    {
     "name": "stdout",
     "output_type": "stream",
     "text": [
      "0.0\n",
      "0.9\n"
     ]
    }
   ],
   "source": [
    "\n",
    "\n",
    "\n",
    "a = [1 for i in range(10)]\n",
    "print gini(a)\n",
    "a = [0 for i in range(10)]\n",
    "a[0] = 1\n",
    "print gini(a)"
   ]
  },
  {
   "cell_type": "code",
   "execution_count": 12,
   "metadata": {
    "collapsed": false
   },
   "outputs": [],
   "source": [
    "import matplotlib.pyplot as plt\n",
    "a = [agent.wealth_path[T-1] for agent in Ec_agents]\n",
    "\n",
    "\"\"\"plt.hist(a)\n",
    "plt.show()\"\"\"\n",
    "\n",
    "\n",
    "plt.plot(range(T),Ec_agents[0].wealth_path)\n",
    "plt.show()\n",
    "plt.plot(range(T),Inst.avg_ret_path,'b')\n",
    "plt.plot(range(T),Inst.investment_ret,'r-')\n",
    "plt.plot(range(T),Inst.estimates_path,'g')\n",
    "plt.show()\n",
    "plt.plot(range(T),Inst.tot_cap_path,'b-')\n",
    "plt.plot(range(T),Inst.tot_ret_path,'r')\n",
    "plt.show()\n",
    "plt.plot(range(T),ginies,'bo')\n",
    "plt.show()\n",
    "\n",
    "wealth = [agent.wealth_path[T-1] for agent in Ec_agents]\n",
    "plt.hist(wealth)\n",
    "plt.show()"
   ]
  },
  {
   "cell_type": "code",
   "execution_count": 8,
   "metadata": {
    "collapsed": false
   },
   "outputs": [
    {
     "data": {
      "text/html": [
       "<div id=\"7507ac62-74df-4907-bd06-129a37c62bae\" style=\"height: 525; width: 100%;\" class=\"plotly-graph-div\"></div><script type=\"text/javascript\">window.PLOTLYENV=window.PLOTLYENV || {};window.PLOTLYENV.BASE_URL=\"https://plot.ly\";Plotly.newPlot(\"7507ac62-74df-4907-bd06-129a37c62bae\", [{\"y\": [1.0244375219697646, 1.0621080666511105, 1.0593139343859124, 1.009878497195354, 1.0793637514134635, 1.019000662172458, 1.0437894601759208, 1.036692313170963, 1.0388310406175734, 1.055767827706358, 1.0546581070715857, 1.0469923485443353, 1.0764413876727954, 1.0384657715180106, 1.0187689472678676, 1.0295079141645433, 1.0374125517075958, 1.0314795478273393, 1.008534165919318, 1.0092675735656436, 1.0205897856779118, 1.0317693250354916, 1.0497830970856443, 1.0085195960380184, 1.0525630010752705, 1.040768395332517, 1.0085355722344518, 1.0094235249698262, 1.0213399574636326, 1.0639067056878826, 1.0066711954896974, 1.0304242331573643, 1.0091844697718941, 1.0087169294819784, 1.0080682843599174, 1.00773640802227, 1.007449336813206, 1.009516819004554, 1.0437026185467349, 1.0087092635518382, 1.0505111888205367, 1.0070710016676183, 1.0058263335920983, 1.046306835179586, 1.0572748583297011, 1.0261506638002116, 1.0155498603815627, 1.0099953740439898, 1.0854217556901924, 1.0178954829922953], \"x\": [0, 1, 2, 3, 4, 5, 6, 7, 8, 9, 10, 11, 12, 13, 14, 15, 16, 17, 18, 19, 20, 21, 22, 23, 24, 25, 26, 27, 28, 29, 30, 31, 32, 33, 34, 35, 36, 37, 38, 39, 40, 41, 42, 43, 44, 45, 46, 47, 48, 49], \"type\": \"scatter\", \"name\": \"Average return in the intermediary\", \"mode\": \"lines+markers\"}, {\"y\": [1.0277921687208176, 1.0629852906163806, 1.0587319684663223, 1.01, 1.0934200424585807, 1.0121402935237545, 1.0487533210657822, 1.0603989685659334, 1.0404568773037723, 1.0651352767002495, 1.0520355638665233, 1.0352859251434385, 1.0686189255744403, 1.0441109218423277, 1.0145022486108817, 1.0328909088202658, 1.0189613756742517, 1.0221622283554228, 1.01, 1.01, 1.0180544817053756, 1.046360626518591, 1.049598953162311, 1.01, 1.0547808601039512, 1.0218501397350335, 1.01, 1.01, 1.010137027469212, 1.0561562339021708, 1.01, 1.0350113254090962, 1.01, 1.01, 1.01, 1.01, 1.01, 1.01, 1.040757344241339, 1.01, 1.050110269261971, 1.01, 1.0219410664048332, 1.0173990549647944, 1.0545326660533683, 1.0358447973247495, 1.0295188168788758, 1.01, 1.090833823417135, 1.024927190578608], \"x\": [0, 1, 2, 3, 4, 5, 6, 7, 8, 9, 10, 11, 12, 13, 14, 15, 16, 17, 18, 19, 20, 21, 22, 23, 24, 25, 26, 27, 28, 29, 30, 31, 32, 33, 34, 35, 36, 37, 38, 39, 40, 41, 42, 43, 44, 45, 46, 47, 48, 49], \"type\": \"scatter\", \"name\": \"Chosen return by the intermediary (risky/safe)\", \"mode\": \"lines\"}, {\"y\": [1.0277921687208176, 1.0629852906163806, 1.0587319684663223, 1.0088544021276227, 1.0934200424585807, 1.0121402935237545, 1.0487533210657822, 1.0603989685659334, 1.0404568773037723, 1.0651352767002495, 1.0520355638665233, 1.0352859251434385, 1.0686189255744403, 1.0441109218423277, 1.0145022486108817, 1.0328909088202658, 1.0189613756742517, 1.0221622283554228, 0.9956348260093172, 1.0028222209433064, 1.0180544817053756, 1.046360626518591, 1.049598953162311, 0.9954920411725817, 1.0547808601039512, 1.0218501397350335, 0.9956486078976265, 1.0043505447042975, 1.010137027469212, 1.0561562339021708, 0.9773777157990347, 1.0350113254090962, 1.0020078037645601, 0.997297601871588, 0.9908760151631827, 0.9875904394204722, 0.9847484344507405, 1.0052165081450857, 1.040757344241339, 0.9972217091631976, 1.050110269261971, 0.9810029165094226, 1.0219410664048332, 1.0173990549647944, 1.0545326660533683, 1.0358447973247495, 1.0295188168788758, 1.009954203035497, 1.090833823417135, 1.024927190578608], \"x\": [0, 1, 2, 3, 4, 5, 6, 7, 8, 9, 10, 11, 12, 13, 14, 15, 16, 17, 18, 19, 20, 21, 22, 23, 24, 25, 26, 27, 28, 29, 30, 31, 32, 33, 34, 35, 36, 37, 38, 39, 40, 41, 42, 43, 44, 45, 46, 47, 48, 49], \"type\": \"scatter\", \"name\": \"Estimatations on the aggregate return.\", \"mode\": \"lines\"}], {}, {\"linkText\": \"Export to plot.ly\", \"showLink\": true})</script>"
      ],
      "text/plain": [
       "<IPython.core.display.HTML object>"
      ]
     },
     "metadata": {},
     "output_type": "display_data"
    }
   ],
   "source": [
    "\n",
    "# https://plot.ly/python/reference/\n",
    "\n",
    "trace_avg_ret = go.Scatter(\n",
    "    x=range(T), y=Inst.avg_ret_path,\n",
    "    mode='lines+markers',\n",
    "    name=\"Average return in the intermediary\"\n",
    ")\n",
    "trace_invetment_ret = go.Scatter(\n",
    "    x=range(T), y=Inst.investment_ret,\n",
    "    mode=\"lines\",\n",
    "    name=\"Chosen return by the intermediary (risky/safe)\"\n",
    ")\n",
    "trace_estimates = go.Scatter(\n",
    "    x=range(T), y=Inst.estimates_path,\n",
    "    mode=\"lines\",\n",
    "    name=\"Estimatations on the aggregate return.\"\n",
    ")\n",
    "\n",
    "data_returns = [trace_avg_ret,trace_invetment_ret,trace_estimates]\n",
    "ply.iplot(data_returns)"
   ]
  },
  {
   "cell_type": "markdown",
   "metadata": {},
   "source": [
    "The following codes are from the main assignment:"
   ]
  },
  {
   "cell_type": "code",
   "execution_count": 14,
   "metadata": {
    "collapsed": false
   },
   "outputs": [],
   "source": [
    "import plotly.offline as ply\n",
    "import plotly.graph_objs as go\n",
    "ply.init_notebook_mode()"
   ]
  },
  {
   "cell_type": "code",
   "execution_count": 15,
   "metadata": {
    "collapsed": false
   },
   "outputs": [
    {
     "data": {
      "text/html": [
       "<div id=\"0a78be94-894f-4aa7-831a-5277b3d6792c\" style=\"height: 525; width: 100%;\" class=\"plotly-graph-div\"></div><script type=\"text/javascript\">window.PLOTLYENV=window.PLOTLYENV || {};window.PLOTLYENV.BASE_URL=\"https://plot.ly\";Plotly.newPlot(\"0a78be94-894f-4aa7-831a-5277b3d6792c\", [{\"y\": [2.0317610578468157, 1.2396324327732302, 1.1978648478453873, 1.168015366367326, 1.1779691496100755, 1.140275799120205, 1.1515751183506824, 1.1757630842239584, 1.0669736368506821, 1.0556476448839616, 1.0625929570068626, 0.9825058249439738, 1.0098375507003585, 1.0068816852815528, 1.0223462150284786, 1.0401241582167324, 1.0346997948456367, 0.9124333207601419, 0.9443728561477776, 0.9027020495568175, 0.8986262940893723, 0.9114825900281022, 0.8644541920846887, 0.8566806325814273, 0.8686734197449353, 0.8524315945329298, 0.8800313263888233, 0.8885341535972642, 0.850158567371238, 0.8870096388910037], \"x\": [1, 2, 3, 4, 5, 6, 7, 8, 9, 10, 11, 12, 13, 14, 15, 16, 17, 18, 19, 20, 21, 22, 23, 24, 25, 26, 27, 28, 29, 30], \"line\": {\"color\": \"rgb(22, 96, 167)\", \"width\": 4}, \"type\": \"scatter\", \"mode\": \"lines+markers\"}], {\"title\": \"Average wealth per capita in each period over the simulation\", \"xaxis\": {\"linewidth\": 1, \"title\": \"Wealth\"}, \"yaxis\": {\"linewidth\": 1, \"title\": \"Period\"}}, {\"linkText\": \"Export to plot.ly\", \"showLink\": true})</script>"
      ],
      "text/plain": [
       "<IPython.core.display.HTML object>"
      ]
     },
     "metadata": {},
     "output_type": "display_data"
    }
   ],
   "source": [
    "# Generation of average wealth path\n",
    "avg_wealth_path = [0 for i in range(T)]\n",
    "for i in range(T):\n",
    "    for agent in Ec_agents:\n",
    "        # We are cumulating the weighted wealth of every agent in. time period i\n",
    "        # to generate the average wealth in the period.\n",
    "        avg_wealth_path[i] += (agent.wealth_path[i]/len(Ec_agents))\n",
    "\n",
    "# Defining the data lines\n",
    "trace_avg_wealth = go.Scatter(\n",
    "    x = [i+1 for i in range(T)],\n",
    "    y = avg_wealth_path,\n",
    "    mode = 'lines+markers',\n",
    "    # name = 'Wealth per capita',\n",
    "    line = dict(\n",
    "        color = ('rgb(22, 96, 167)'),\n",
    "        width = 4,\n",
    "    )\n",
    ")\n",
    "data_avg_wealth = [trace_avg_wealth]\n",
    "# Setting the layout.\n",
    "layout_avg_wealth = dict(title = 'Average wealth per capita in each period over the simulation',\n",
    "              xaxis = dict(title = 'Wealth',linewidth=1),\n",
    "              yaxis = dict(title = 'Period',linewidth=1),\n",
    "              )\n",
    "# Plotting the figure\n",
    "fig_avg_wealth = dict(data=data_avg_wealth, layout=layout_avg_wealth)\n",
    "ply.iplot(fig_avg_wealth)"
   ]
  },
  {
   "cell_type": "code",
   "execution_count": 18,
   "metadata": {
    "collapsed": false
   },
   "outputs": [
    {
     "name": "stdout",
     "output_type": "stream",
     "text": [
      "[0.10856091505533638, 0.2735281639745845, 0.2797404435119652, 0.2814057316649948, 0.28420394192343557, 0.2914573030517974, 0.29470638145949574, 0.2987309119989499, 0.3102485323324777, 0.31306071533035706, 0.31389803823862705, 0.3099777407276059, 0.3078925407075281, 0.3095874901391803, 0.3102723560564556, 0.30708341010275303, 0.31047122481134437, 0.3097527392549088, 0.3142937886807614, 0.3062724806859863, 0.2976324282884957, 0.2968488860079466, 0.2866455344085784, 0.28367993261721874, 0.27648221374545745, 0.2693507012747698, 0.26908153117359324, 0.2723420009220252, 0.2634752534929818, 0.26493002836431073]\n"
     ]
    },
    {
     "data": {
      "text/html": [
       "<div id=\"c28e0e2c-d7a2-4f2c-973c-a8f28aceab6b\" style=\"height: 525; width: 100%;\" class=\"plotly-graph-div\"></div><script type=\"text/javascript\">window.PLOTLYENV=window.PLOTLYENV || {};window.PLOTLYENV.BASE_URL=\"https://plot.ly\";Plotly.newPlot(\"c28e0e2c-d7a2-4f2c-973c-a8f28aceab6b\", [{\"y\": [0.10856091505533638, 0.2735281639745845, 0.2797404435119652, 0.2814057316649948, 0.28420394192343557, 0.2914573030517974, 0.29470638145949574, 0.2987309119989499, 0.3102485323324777, 0.31306071533035706, 0.31389803823862705, 0.3099777407276059, 0.3078925407075281, 0.3095874901391803, 0.3102723560564556, 0.30708341010275303, 0.31047122481134437, 0.3097527392549088, 0.3142937886807614, 0.3062724806859863, 0.2976324282884957, 0.2968488860079466, 0.2866455344085784, 0.28367993261721874, 0.27648221374545745, 0.2693507012747698, 0.26908153117359324, 0.2723420009220252, 0.2634752534929818, 0.26493002836431073], \"x\": [1, 2, 3, 4, 5, 6, 7, 8, 9, 10, 11, 12, 13, 14, 15, 16, 17, 18, 19, 20, 21, 22, 23, 24, 25, 26, 27, 28, 29, 30], \"line\": {\"color\": \"rgb(22, 96, 167)\", \"width\": 4}, \"type\": \"scatter\", \"mode\": \"lines+markers\"}], {\"title\": \"Gini index in each period over the simulation\", \"xaxis\": {\"linewidth\": 1, \"title\": \"Period\"}, \"yaxis\": {\"linewidth\": 1, \"title\": \"Gini index\"}}, {\"linkText\": \"Export to plot.ly\", \"showLink\": true})</script>"
      ],
      "text/plain": [
       "<IPython.core.display.HTML object>"
      ]
     },
     "metadata": {},
     "output_type": "display_data"
    }
   ],
   "source": [
    "gini_timepath = [0 for i in range(T)]\n",
    "for i in range(T):\n",
    "    # We generate the list representing the wealth distribution\n",
    "    wealth_distr = [agent.wealth_path[i] for agent in Ec_agents]\n",
    "    # Then calculates the gini index using the function defined earlier.\n",
    "    gini_timepath[i] = gini(wealth_distr)\n",
    "    \n",
    "print gini_timepath\n",
    "    \n",
    "# Defining the data lines\n",
    "trace_gini = go.Scatter(\n",
    "    x = [i+1 for i in range(T)],\n",
    "    y = gini_timepath,\n",
    "    mode = 'lines+markers',\n",
    "    # name = 'Gini index over time',\n",
    "    line = dict(\n",
    "        color = ('rgb(22, 96, 167)'),\n",
    "        width = 4,\n",
    "    )\n",
    ")\n",
    "data_gini = [trace_gini]\n",
    "# Setting the layout.\n",
    "layout_gini = dict(title = 'Gini index in each period over the simulation',\n",
    "              xaxis = dict(title = 'Period',linewidth=1),\n",
    "              yaxis = dict(title = 'Gini index',linewidth=1),\n",
    "              )\n",
    "# Plotting the figure\n",
    "fig_gini = dict(data=data_gini, layout=layout_gini)\n",
    "ply.iplot(fig_gini)"
   ]
  },
  {
   "cell_type": "code",
   "execution_count": 19,
   "metadata": {
    "collapsed": false
   },
   "outputs": [
    {
     "name": "stdout",
     "output_type": "stream",
     "text": [
      "[1.0122228673552425, 1.0115860252305544, 0.9973745725915186, 1.0171947775658305, 1.0153132609177447, 1.0533615391078384, 1.0535150172577663, 1.0203564054195067, 1.021501024445739, 1.0449801810244848, 0.9710599811694525, 1.0448417885975898, 1.005217292516499, 1.0648967196364776, 1.0712295672974468, 1.0376942317028766, 1.00245562109389, 1.04680068586948, 1.0532011049050898, 1.0519211436875517, 1.0459468480833185, 0.9934497231030804, 1.022781039575782, 1.0712406274343402, 1.0167207359805752, 1.0517949158128057, 1.0185671358479702, 1.0000123351335806, 1.0560291265352963, 1.0666911027564503]\n"
     ]
    },
    {
     "data": {
      "text/html": [
       "<div id=\"df6a7355-ad00-47e3-bc93-6d329eba71c5\" style=\"height: 525; width: 100%;\" class=\"plotly-graph-div\"></div><script type=\"text/javascript\">window.PLOTLYENV=window.PLOTLYENV || {};window.PLOTLYENV.BASE_URL=\"https://plot.ly\";Plotly.newPlot(\"df6a7355-ad00-47e3-bc93-6d329eba71c5\", [{\"name\": \"Growth rate of average wealth per capita\", \"mode\": \"lines+markers\", \"y\": [null, -38.9872924286212, -3.3693523841097806, -2.4918905944816605, 0.8521962578032616, -3.199858884449347, 0.9909286191284172, 2.100424495791353, -9.252667381123025, -1.0615062617808202, 0.6579195393993986, -7.53695302935945, 2.78183854614229, -0.29270702171411145, 1.5358835077630362, 1.7389356880201934, -0.5215111415540763, -11.816613349549876, 3.5004788471586057, -4.412537518384507, -0.45150617188098874, 1.4306610014964916, -5.159549777244077, -0.8992448153342658, 1.3999134225049836, -1.8697274306809675, 3.2377650045944284, 0.9661959697880196, -4.318977055711503, 4.334611557666523], \"x\": [1, 2, 3, 4, 5, 6, 7, 8, 9, 10, 11, 12, 13, 14, 15, 16, 17, 18, 19, 20, 21, 22, 23, 24, 25, 26, 27, 28, 29, 30], \"line\": {\"width\": 4}, \"type\": \"scatter\"}, {\"name\": \"Growth rate based on the aggregate productivity\", \"mode\": \"lines+markers\", \"y\": [null, 1.1586025230554409, -0.26254274084813733, 1.7194777565830544, 1.5313260917744653, 5.336153910783836, 5.351501725776631, 2.0356405419506673, 2.150102444573898, 4.4980181024484756, -2.894001883054753, 4.4841788597589805, 0.521729251649905, 6.4896719636477584, 7.122956729744678, 3.7694231702876557, 0.24556210938899703, 4.680068586948005, 5.320110490508978, 5.192114368755174, 4.59468480833185, -0.655027689691956, 2.2781039575781925, 7.124062743434023, 1.6720735980575219, 5.179491581280571, 1.8567135847970206, 0.0012335133580565483, 5.602912653529635, 6.669110275645029], \"x\": [1, 2, 3, 4, 5, 6, 7, 8, 9, 10, 11, 12, 13, 14, 15, 16, 17, 18, 19, 20, 21, 22, 23, 24, 25, 26, 27, 28, 29, 30], \"line\": {\"width\": 4}, \"type\": \"scatter\"}], {\"title\": \"Growth rates over the simulation\", \"xaxis\": {\"linewidth\": 1, \"title\": \"Period\"}, \"yaxis\": {\"linewidth\": 1, \"title\": \"Growth rate (%)\"}}, {\"linkText\": \"Export to plot.ly\", \"showLink\": true})</script>"
      ],
      "text/plain": [
       "<IPython.core.display.HTML object>"
      ]
     },
     "metadata": {},
     "output_type": "display_data"
    }
   ],
   "source": [
    "avg_wealth_g = [0 for i in range(T)]\n",
    "aggr_shocks_g = [0 for i in range(T)]\n",
    "for i in range(T):\n",
    "    # We now calculate the growth rates for every period which is not the first.\n",
    "    if (i>0):\n",
    "        avg_wealth_g[i] =  100*((avg_wealth_path[i]/avg_wealth_path[i-1])-1)\n",
    "        aggr_shocks_g[i] =  100*(aggr_shocks[i]-1)\n",
    "    else:\n",
    "        avg_wealth_g[i] = None\n",
    "        aggr_shocks_g[i] = None\n",
    "print aggr_shocks        \n",
    "paths = [avg_wealth_g,aggr_shocks_g]\n",
    "path_names = ['Growth rate of average wealth per capita',\n",
    "             'Growth rate based on the aggregate productivity']\n",
    "traces = []\n",
    "\n",
    "for j in range(2):\n",
    "    traces.append(\n",
    "        go.Scatter(\n",
    "            x = [i+1 for i in range(T)],\n",
    "            y = paths[j],\n",
    "            mode = 'lines+markers',\n",
    "            name = path_names[j],\n",
    "            line = dict(\n",
    "                width = 4,\n",
    "    )))\n",
    "layout_g = dict(title = 'Growth rates over the simulation',\n",
    "              xaxis = dict(title = 'Period',linewidth=1),\n",
    "              yaxis = dict(title = 'Growth rate (%)',linewidth=1),\n",
    "              )\n",
    "fig_g = dict(data=traces, layout=layout_g)\n",
    "ply.iplot(fig_g)"
   ]
  },
  {
   "cell_type": "code",
   "execution_count": 11,
   "metadata": {
    "collapsed": true
   },
   "outputs": [
    {
     "name": "stdout",
     "output_type": "stream",
     "text": [
      "0.5\n",
      "0.5\n",
      "0.53\n",
      "0.6\n",
      "0.63\n",
      "0.65\n",
      "0.66\n",
      "0.7\n",
      "0.7\n",
      "0.72\n",
      "0.72\n",
      "0.73\n",
      "0.74\n",
      "0.74\n",
      "0.74\n",
      "0.74\n",
      "0.76\n",
      "0.78\n",
      "0.79\n",
      "0.8\n",
      "0.82\n",
      "0.83\n",
      "0.83\n",
      "0.83\n",
      "0.85\n",
      "0.85\n",
      "0.85\n",
      "0.85\n",
      "0.85\n",
      "0.85\n"
     ]
    },
    {
     "data": {
      "text/html": [
       "<div id=\"b374f7fc-8ab9-4ee6-928f-7c174710494e\" style=\"height: 525; width: 100%;\" class=\"plotly-graph-div\"></div><script type=\"text/javascript\">window.PLOTLYENV=window.PLOTLYENV || {};window.PLOTLYENV.BASE_URL=\"https://plot.ly\";Plotly.newPlot(\"b374f7fc-8ab9-4ee6-928f-7c174710494e\", [{\"y\": [0.5, 0.5, 0.53, 0.6, 0.63, 0.65, 0.66, 0.7, 0.7, 0.72, 0.72, 0.73, 0.74, 0.74, 0.74, 0.74, 0.76, 0.78, 0.79, 0.8, 0.82, 0.83, 0.83, 0.83, 0.85, 0.85, 0.85, 0.85, 0.85, 0.85], \"x\": [1, 2, 3, 4, 5, 6, 7, 8, 9, 10, 11, 12, 13, 14, 15, 16, 17, 18, 19, 20, 21, 22, 23, 24, 25, 26, 27, 28, 29, 30], \"line\": {\"color\": \"rgb(22, 96, 167)\", \"width\": 4}, \"type\": \"scatter\", \"mode\": \"lines+markers\"}], {\"title\": \"The development of the financial intermediary\", \"xaxis\": {\"linewidth\": 1, \"title\": \"Period\"}, \"yaxis\": {\"linewidth\": 1, \"title\": \"Size relative to the population (%)\"}}, {\"linkText\": \"Export to plot.ly\", \"showLink\": true})</script>"
      ],
      "text/plain": [
       "<IPython.core.display.HTML object>"
      ]
     },
     "metadata": {},
     "output_type": "display_data"
    }
   ],
   "source": [
    "fin_int_dev = [nMember/float(len(Ec_agents)) for nMember in Inst.number_of_members]\n",
    "trace_fin_int_dev = go.Scatter(\n",
    "    x = [i+1 for i in range(T)],\n",
    "    y = fin_int_dev,\n",
    "    mode = 'lines+markers',\n",
    "    # name = 'Gini index over time',\n",
    "    line = dict(\n",
    "        color = ('rgb(22, 96, 167)'),\n",
    "        width = 4,\n",
    "    )\n",
    ")\n",
    "data_fi_dev = [trace_fin_int_dev]\n",
    "layout_fi_dev = dict(title = 'The development of the financial intermediary',\n",
    "                     xaxis = dict(title = 'Period',linewidth=1),\n",
    "                     yaxis = dict(title = 'Size relative to the population (%)',linewidth=1),\n",
    "                    )\n",
    "ply.iplot(dict(data=data_fi_dev, layout=layout_fi_dev))"
   ]
  }
 ],
 "metadata": {
  "kernelspec": {
   "display_name": "Python 2",
   "language": "python",
   "name": "python2"
  },
  "language_info": {
   "codemirror_mode": {
    "name": "ipython",
    "version": 2
   },
   "file_extension": ".py",
   "mimetype": "text/x-python",
   "name": "python",
   "nbconvert_exporter": "python",
   "pygments_lexer": "ipython2",
   "version": "2.7.11"
  }
 },
 "nbformat": 4,
 "nbformat_minor": 0
}
